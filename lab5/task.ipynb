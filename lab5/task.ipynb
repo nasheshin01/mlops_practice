{
 "cells": [
  {
   "cell_type": "markdown",
   "id": "9d65b194-52e5-42a6-89fa-6d2c5d8c03ed",
   "metadata": {},
   "source": [
    "# MlOps. Задание 5"
   ]
  },
  {
   "cell_type": "markdown",
   "id": "0241693a-ca5a-4298-909f-b43004a508ac",
   "metadata": {},
   "source": [
    "## 1. Импорт библиотек"
   ]
  },
  {
   "cell_type": "code",
   "execution_count": 143,
   "id": "f139d8dd-b86a-4e40-b976-dd20b5dd50d8",
   "metadata": {},
   "outputs": [],
   "source": [
    "import numpy as np\n",
    "import pickle\n",
    "\n",
    "from sklearn.linear_model import LinearRegression\n",
    "from sklearn.metrics import r2_score, mean_squared_error"
   ]
  },
  {
   "cell_type": "markdown",
   "id": "46ac3a29-b226-40f3-99df-d1e3c37e677a",
   "metadata": {},
   "source": [
    "## 2. Генерация данных"
   ]
  },
  {
   "cell_type": "code",
   "execution_count": 144,
   "id": "4bb87d67-eb95-4866-adf0-62246a1ff2f2",
   "metadata": {},
   "outputs": [],
   "source": [
    "def add_anomalies(arr, anomaly_percent, anomaly_value):\n",
    "    if anomaly_percent > 1 or anomaly_percent < 0:\n",
    "        return arr\n",
    "\n",
    "    anomaly_count = int(len(arr) * anomaly_percent)\n",
    "    \n",
    "    mask = np.full(len(arr), False)\n",
    "    mask[:anomaly_count] = True\n",
    "    np.random.shuffle(mask)\n",
    "\n",
    "    arr += (np.random.random(len(arr)) * 2 - 1) * anomaly_value * mask\n",
    "\n",
    "    return arr\n",
    "\n",
    "def generate_data(min_value, max_value, count, random_value, anomaly_percent=None, anomaly_value=None):\n",
    "    x = np.linspace(min_value, max_value, count)\n",
    "    y = x + (np.random.random(count) * 2 - 1) * random_value\n",
    "\n",
    "    if anomaly_percent is not None and anomaly_value is not None:\n",
    "        y = add_anomalies(y, anomaly_percent, anomaly_value)\n",
    "\n",
    "    return x.reshape(-1, 1), y"
   ]
  },
  {
   "cell_type": "code",
   "execution_count": 145,
   "id": "c1c0153c-3f22-4304-b104-d56d6e5b00dc",
   "metadata": {},
   "outputs": [],
   "source": [
    "train_data = generate_data(0, 1, 250, 0.2)\n",
    "other_data1 = generate_data(0, 1, 250, 0.2)\n",
    "other_data2 = generate_data(0, 1, 250, 0.2)\n",
    "anomaly_data = generate_data(0, 1, 250, 0.2, 0.3, 2)\n",
    "\n",
    "np.save(f'train_x', train_data[0])\n",
    "np.save(f'train_y', train_data[1])\n",
    "\n",
    "np.save(f'other1_x', other_data1[0])\n",
    "np.save(f'other1_y', other_data1[1])\n",
    "\n",
    "np.save(f'other2_x', other_data2[0])\n",
    "np.save(f'other2_y', other_data2[1])\n",
    "\n",
    "np.save(f'anomaly_x', anomaly_data[0])\n",
    "np.save(f'anomaly_y', anomaly_data[1])\n"
   ]
  },
  {
   "cell_type": "markdown",
   "id": "f67c6989-dc0c-46ab-b7c0-a6ba8961290d",
   "metadata": {},
   "source": [
    "## 3. Обучение модели"
   ]
  },
  {
   "cell_type": "code",
   "execution_count": 146,
   "id": "d7a690ef-0bf0-4210-8271-3e9da1cdfb51",
   "metadata": {},
   "outputs": [],
   "source": [
    "model = LinearRegression().fit(train_data[0], train_data[1])\n",
    "\n",
    "with open('model.pkl','wb') as f:\n",
    "    pickle.dump(model, f)"
   ]
  },
  {
   "cell_type": "markdown",
   "id": "ccf2cec4-dcff-4243-98d3-90976586a0f3",
   "metadata": {},
   "source": [
    "## 4. Тестирование"
   ]
  },
  {
   "cell_type": "code",
   "execution_count": 147,
   "id": "ff7ba45d-39a2-4119-9135-f566d05c87a3",
   "metadata": {},
   "outputs": [
    {
     "name": "stdout",
     "output_type": "stream",
     "text": [
      "Overwriting test.py\n"
     ]
    }
   ],
   "source": [
    "%%writefile \"test.py\"\n",
    "\n",
    "import pickle\n",
    "import numpy as np\n",
    "import pytest\n",
    "\n",
    "\n",
    "from sklearn.metrics import r2_score, mean_squared_error\n",
    "\n",
    "@pytest.mark.parametrize(\"data_name\", ['train', 'other1', 'other2', 'anomaly'])\n",
    "def test_model(data_name):\n",
    "    with open('model.pkl', 'rb') as f:\n",
    "        model = pickle.load(f)\n",
    "\n",
    "    x, y = np.load(f'{data_name}_x.npy'), np.load(f'{data_name}_y.npy')\n",
    "\n",
    "    y_pred = model.predict(x)\n",
    "\n",
    "    r2 = r2_score(y, y_pred)\n",
    "    mse = mean_squared_error(y, y_pred)\n",
    "\n",
    "    assert r2 > 0.8\n",
    "    assert mse < 0.05\n",
    "\n",
    "    print(f'Dataset: {data_name}. Success!')"
   ]
  },
  {
   "cell_type": "code",
   "execution_count": 148,
   "id": "9ff3c224-5a86-4fde-b0f8-3f9c0624e7e4",
   "metadata": {},
   "outputs": [
    {
     "name": "stdout",
     "output_type": "stream",
     "text": [
      "\u001b[1m============================= test session starts =============================\u001b[0m\n",
      "platform win32 -- Python 3.10.11, pytest-7.4.3, pluggy-1.3.0 -- E:\\UrfuMaga\\VENV\\Scripts\\python.exe\n",
      "cachedir: .pytest_cache\n",
      "rootdir: E:\\UrfuMaga\\MlOps\\Task5\n",
      "plugins: anyio-3.7.1\n",
      "\u001b[1mcollecting ... \u001b[0mcollected 4 items\n",
      "\n",
      "test.py::test_model[train] \u001b[32mPASSED\u001b[0m\u001b[32m                                        [ 25%]\u001b[0m\n",
      "test.py::test_model[other1] \u001b[32mPASSED\u001b[0m\u001b[32m                                       [ 50%]\u001b[0m\n",
      "test.py::test_model[other2] \u001b[32mPASSED\u001b[0m\u001b[32m                                       [ 75%]\u001b[0m\n",
      "test.py::test_model[anomaly] \u001b[31mFAILED\u001b[0m\u001b[31m                                      [100%]\u001b[0m\n",
      "\n",
      "================================== FAILURES ===================================\n",
      "\u001b[31m\u001b[1m_____________________________ test_model[anomaly] _____________________________\u001b[0m\n",
      "\n",
      "data_name = 'anomaly'\n",
      "\n",
      "    \u001b[37m@pytest\u001b[39;49;00m.mark.parametrize(\u001b[33m\"\u001b[39;49;00m\u001b[33mdata_name\u001b[39;49;00m\u001b[33m\"\u001b[39;49;00m, [\u001b[33m'\u001b[39;49;00m\u001b[33mtrain\u001b[39;49;00m\u001b[33m'\u001b[39;49;00m, \u001b[33m'\u001b[39;49;00m\u001b[33mother1\u001b[39;49;00m\u001b[33m'\u001b[39;49;00m, \u001b[33m'\u001b[39;49;00m\u001b[33mother2\u001b[39;49;00m\u001b[33m'\u001b[39;49;00m, \u001b[33m'\u001b[39;49;00m\u001b[33manomaly\u001b[39;49;00m\u001b[33m'\u001b[39;49;00m])\u001b[90m\u001b[39;49;00m\n",
      "    \u001b[94mdef\u001b[39;49;00m \u001b[92mtest_model\u001b[39;49;00m(data_name):\u001b[90m\u001b[39;49;00m\n",
      "        \u001b[94mwith\u001b[39;49;00m \u001b[96mopen\u001b[39;49;00m(\u001b[33m'\u001b[39;49;00m\u001b[33mmodel.pkl\u001b[39;49;00m\u001b[33m'\u001b[39;49;00m, \u001b[33m'\u001b[39;49;00m\u001b[33mrb\u001b[39;49;00m\u001b[33m'\u001b[39;49;00m) \u001b[94mas\u001b[39;49;00m f:\u001b[90m\u001b[39;49;00m\n",
      "            model = pickle.load(f)\u001b[90m\u001b[39;49;00m\n",
      "    \u001b[90m\u001b[39;49;00m\n",
      "        x, y = np.load(\u001b[33mf\u001b[39;49;00m\u001b[33m'\u001b[39;49;00m\u001b[33m{\u001b[39;49;00mdata_name\u001b[33m}\u001b[39;49;00m\u001b[33m_x.npy\u001b[39;49;00m\u001b[33m'\u001b[39;49;00m), np.load(\u001b[33mf\u001b[39;49;00m\u001b[33m'\u001b[39;49;00m\u001b[33m{\u001b[39;49;00mdata_name\u001b[33m}\u001b[39;49;00m\u001b[33m_y.npy\u001b[39;49;00m\u001b[33m'\u001b[39;49;00m)\u001b[90m\u001b[39;49;00m\n",
      "    \u001b[90m\u001b[39;49;00m\n",
      "        y_pred = model.predict(x)\u001b[90m\u001b[39;49;00m\n",
      "    \u001b[90m\u001b[39;49;00m\n",
      "        r2 = r2_score(y, y_pred)\u001b[90m\u001b[39;49;00m\n",
      "        mse = mean_squared_error(y, y_pred)\u001b[90m\u001b[39;49;00m\n",
      "    \u001b[90m\u001b[39;49;00m\n",
      ">       \u001b[94massert\u001b[39;49;00m r2 > \u001b[94m0.8\u001b[39;49;00m\u001b[90m\u001b[39;49;00m\n",
      "\u001b[1m\u001b[31mE       assert 0.189885759313688 > 0.8\u001b[0m\n",
      "\n",
      "\u001b[1m\u001b[31mtest.py\u001b[0m:21: AssertionError\n",
      "\u001b[36m\u001b[1m=========================== short test summary info ===========================\u001b[0m\n",
      "\u001b[31mFAILED\u001b[0m test.py::\u001b[1mtest_model[anomaly]\u001b[0m - assert 0.189885759313688 > 0.8\n",
      "\u001b[31m========================= \u001b[31m\u001b[1m1 failed\u001b[0m, \u001b[32m3 passed\u001b[0m\u001b[31m in 0.62s\u001b[0m\u001b[31m =========================\u001b[0m\n"
     ]
    }
   ],
   "source": [
    "! pytest -v test.py"
   ]
  }
 ],
 "metadata": {
  "kernelspec": {
   "display_name": "Python 3 (ipykernel)",
   "language": "python",
   "name": "python3"
  },
  "language_info": {
   "codemirror_mode": {
    "name": "ipython",
    "version": 3
   },
   "file_extension": ".py",
   "mimetype": "text/x-python",
   "name": "python",
   "nbconvert_exporter": "python",
   "pygments_lexer": "ipython3",
   "version": "3.10.11"
  }
 },
 "nbformat": 4,
 "nbformat_minor": 5
}
